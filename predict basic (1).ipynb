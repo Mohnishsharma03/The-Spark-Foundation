{
 "cells": [
  {
   "cell_type": "code",
   "execution_count": 88,
   "id": "eee58e7f",
   "metadata": {},
   "outputs": [],
   "source": [
    "import pandas as pd\n",
    "import numpy as np\n",
    "import matplotlib.pyplot as plt\n",
    "from sklearn.cluster import KMeans\n",
    "from sklearn.metrics import silhouette_score"
   ]
  },
  {
   "cell_type": "code",
   "execution_count": 98,
   "id": "2244778e",
   "metadata": {},
   "outputs": [],
   "source": [
    "Hours=np.array([\n",
    "2.5,\n",
    "5.1,\n",
    "3.2,\n",
    "8.5,\n",
    "3.5,\n",
    "1.5,\n",
    "9.2,\n",
    "5.5,\n",
    "8.3,\n",
    "2.7,\n",
    "7.7,\n",
    "5.9,\n",
    "4.5,\n",
    "3.3,\n",
    "1.1,\n",
    "8.9,\n",
    "2.5,\n",
    "1.9,\n",
    "6.1,\n",
    "7.4,\n",
    "2.7,\n",
    "4.8,\n",
    "3.8,\n",
    "6.9]).reshape(-1,1)"
   ]
  },
  {
   "cell_type": "code",
   "execution_count": 101,
   "id": "fc8c898a",
   "metadata": {},
   "outputs": [],
   "source": [
    "Scores=np.array([\n",
    "21\n",
    ",47\n",
    ",27\n",
    ",75\n",
    ",30\n",
    ",20\n",
    ",88\n",
    ",60\n",
    ",81\n",
    ",25\n",
    ",85\n",
    ",62\n",
    ",41\n",
    ",42\n",
    ",17\n",
    ",95\n",
    ",30\n",
    ",24\n",
    ",67\n",
    ",69\n",
    ",30\n",
    ",54\n",
    ",35\n",
    ",76]).reshape(-1,1)"
   ]
  },
  {
   "cell_type": "code",
   "execution_count": 93,
   "id": "b6cdb125",
   "metadata": {},
   "outputs": [],
   "source": [
    "from sklearn.linear_model import LinearRegression"
   ]
  },
  {
   "cell_type": "code",
   "execution_count": 94,
   "id": "1917b90c",
   "metadata": {},
   "outputs": [],
   "source": [
    "lr=LinearRegression()"
   ]
  },
  {
   "cell_type": "code",
   "execution_count": 102,
   "id": "d170ed3a",
   "metadata": {},
   "outputs": [
    {
     "data": {
      "text/plain": [
       "LinearRegression()"
      ]
     },
     "execution_count": 102,
     "metadata": {},
     "output_type": "execute_result"
    }
   ],
   "source": [
    "lr.fit(Hours,Scores)"
   ]
  },
  {
   "cell_type": "code",
   "execution_count": 107,
   "id": "1eb50983",
   "metadata": {},
   "outputs": [],
   "source": [
    "p_pred=lr.predict([[9.25]])"
   ]
  },
  {
   "cell_type": "code",
   "execution_count": 111,
   "id": "aff223d9",
   "metadata": {},
   "outputs": [
    {
     "name": "stdout",
     "output_type": "stream",
     "text": [
      "The predicted score of a student studies for 9.25 hrs/ day is [91.97326144]\n"
     ]
    }
   ],
   "source": [
    "print(f'The predicted score of a student studies for 9.25 hrs/ day is {p_pred[0]}')"
   ]
  },
  {
   "cell_type": "code",
   "execution_count": null,
   "id": "9dadb742",
   "metadata": {},
   "outputs": [],
   "source": []
  }
 ],
 "metadata": {
  "kernelspec": {
   "display_name": "Python 3",
   "language": "python",
   "name": "python3"
  },
  "language_info": {
   "codemirror_mode": {
    "name": "ipython",
    "version": 3
   },
   "file_extension": ".py",
   "mimetype": "text/x-python",
   "name": "python",
   "nbconvert_exporter": "python",
   "pygments_lexer": "ipython3",
   "version": "3.8.8"
  }
 },
 "nbformat": 4,
 "nbformat_minor": 5
}
